{
  "nbformat": 4,
  "nbformat_minor": 0,
  "metadata": {
    "colab": {
      "name": "Practice.ipynb",
      "provenance": [],
      "collapsed_sections": [],
      "authorship_tag": "ABX9TyOGnYj579CK+X+BYUTvmCcA",
      "include_colab_link": true
    },
    "kernelspec": {
      "name": "python3",
      "display_name": "Python 3"
    },
    "language_info": {
      "name": "python"
    }
  },
  "cells": [
    {
      "cell_type": "markdown",
      "metadata": {
        "id": "view-in-github",
        "colab_type": "text"
      },
      "source": [
        "<a href=\"https://colab.research.google.com/github/Cryptmenic/Programming-Tutorials/blob/master/Practice.ipynb\" target=\"_parent\"><img src=\"https://colab.research.google.com/assets/colab-badge.svg\" alt=\"Open In Colab\"/></a>"
      ]
    },
    {
      "cell_type": "code",
      "metadata": {
        "colab": {
          "base_uri": "https://localhost:8080/"
        },
        "id": "B5a0TwT0TdwQ",
        "outputId": "06f639f2-3c80-4564-c1d0-d86eb72a618c"
      },
      "source": [
        "import numpy as np\n",
        "import pandas as pd\n",
        "import matplotlib.pyplot as plt\n",
        "import statsmodels.api as sm\n",
        "import seaborn as sns\n",
        "sns.set()"
      ],
      "execution_count": null,
      "outputs": [
        {
          "output_type": "stream",
          "text": [
            "/usr/local/lib/python3.7/dist-packages/statsmodels/tools/_testing.py:19: FutureWarning: pandas.util.testing is deprecated. Use the functions in the public API at pandas.testing instead.\n",
            "  import pandas.util.testing as tm\n"
          ],
          "name": "stderr"
        }
      ]
    },
    {
      "cell_type": "code",
      "metadata": {
        "id": "EYKUGOnSTnOq"
      },
      "source": [
        "data = np.arange(1,101)"
      ],
      "execution_count": null,
      "outputs": []
    },
    {
      "cell_type": "code",
      "metadata": {
        "colab": {
          "base_uri": "https://localhost:8080/"
        },
        "id": "yT0S_3sTbWpx",
        "outputId": "5a881e7a-3018-42e5-a88e-18b7ab0125f0"
      },
      "source": [
        "data"
      ],
      "execution_count": null,
      "outputs": [
        {
          "output_type": "execute_result",
          "data": {
            "text/plain": [
              "array([  1,   2,   3,   4,   5,   6,   7,   8,   9,  10,  11,  12,  13,\n",
              "        14,  15,  16,  17,  18,  19,  20,  21,  22,  23,  24,  25,  26,\n",
              "        27,  28,  29,  30,  31,  32,  33,  34,  35,  36,  37,  38,  39,\n",
              "        40,  41,  42,  43,  44,  45,  46,  47,  48,  49,  50,  51,  52,\n",
              "        53,  54,  55,  56,  57,  58,  59,  60,  61,  62,  63,  64,  65,\n",
              "        66,  67,  68,  69,  70,  71,  72,  73,  74,  75,  76,  77,  78,\n",
              "        79,  80,  81,  82,  83,  84,  85,  86,  87,  88,  89,  90,  91,\n",
              "        92,  93,  94,  95,  96,  97,  98,  99, 100])"
            ]
          },
          "metadata": {},
          "execution_count": 19
        }
      ]
    },
    {
      "cell_type": "code",
      "metadata": {
        "colab": {
          "base_uri": "https://localhost:8080/"
        },
        "id": "TxQmB7LsbXvU",
        "outputId": "58bf49ab-0910-4f5c-a0a0-9db586253315"
      },
      "source": [
        "type(data)"
      ],
      "execution_count": null,
      "outputs": [
        {
          "output_type": "execute_result",
          "data": {
            "text/plain": [
              "numpy.ndarray"
            ]
          },
          "metadata": {},
          "execution_count": 20
        }
      ]
    },
    {
      "cell_type": "code",
      "metadata": {
        "colab": {
          "base_uri": "https://localhost:8080/"
        },
        "id": "goCGdws0dt_D",
        "outputId": "0024910b-d05c-40b3-c580-ef3b02981260"
      },
      "source": [
        "data*10"
      ],
      "execution_count": null,
      "outputs": [
        {
          "output_type": "execute_result",
          "data": {
            "text/plain": [
              "array([  10,   20,   30,   40,   50,   60,   70,   80,   90,  100,  110,\n",
              "        120,  130,  140,  150,  160,  170,  180,  190,  200,  210,  220,\n",
              "        230,  240,  250,  260,  270,  280,  290,  300,  310,  320,  330,\n",
              "        340,  350,  360,  370,  380,  390,  400,  410,  420,  430,  440,\n",
              "        450,  460,  470,  480,  490,  500,  510,  520,  530,  540,  550,\n",
              "        560,  570,  580,  590,  600,  610,  620,  630,  640,  650,  660,\n",
              "        670,  680,  690,  700,  710,  720,  730,  740,  750,  760,  770,\n",
              "        780,  790,  800,  810,  820,  830,  840,  850,  860,  870,  880,\n",
              "        890,  900,  910,  920,  930,  940,  950,  960,  970,  980,  990,\n",
              "       1000])"
            ]
          },
          "metadata": {},
          "execution_count": 21
        }
      ]
    },
    {
      "cell_type": "code",
      "metadata": {
        "id": "ZQEryZdpgiGu"
      },
      "source": [
        "new_data = [100, 20, 50, 70, 80]"
      ],
      "execution_count": null,
      "outputs": []
    },
    {
      "cell_type": "code",
      "metadata": {
        "colab": {
          "base_uri": "https://localhost:8080/"
        },
        "id": "Pwm1nkbbgr82",
        "outputId": "afed3418-0617-4e5b-c0f5-dbc360895410"
      },
      "source": [
        "type(new_data)"
      ],
      "execution_count": null,
      "outputs": [
        {
          "output_type": "execute_result",
          "data": {
            "text/plain": [
              "list"
            ]
          },
          "metadata": {},
          "execution_count": 23
        }
      ]
    },
    {
      "cell_type": "code",
      "metadata": {
        "colab": {
          "base_uri": "https://localhost:8080/"
        },
        "id": "p0rR911ngt8V",
        "outputId": "6c23a6e6-581e-494f-96c5-56b768395d7c"
      },
      "source": [
        "add_up = []\n",
        "\n",
        "for i in new_data:\n",
        "  add_up.append(i*10)\n",
        "add_up\n",
        "\n"
      ],
      "execution_count": null,
      "outputs": [
        {
          "output_type": "execute_result",
          "data": {
            "text/plain": [
              "[1000, 200, 500, 700, 800]"
            ]
          },
          "metadata": {},
          "execution_count": 34
        }
      ]
    },
    {
      "cell_type": "code",
      "metadata": {
        "colab": {
          "base_uri": "https://localhost:8080/"
        },
        "id": "UFpdJ0gpg83V",
        "outputId": "45a4fe51-5491-49f5-981d-e18a46bd051b"
      },
      "source": [
        "[i*10 for i in new_data]"
      ],
      "execution_count": null,
      "outputs": [
        {
          "output_type": "execute_result",
          "data": {
            "text/plain": [
              "[1000, 200, 500, 700, 800]"
            ]
          },
          "metadata": {},
          "execution_count": 35
        }
      ]
    },
    {
      "cell_type": "code",
      "metadata": {
        "id": "az25MDZThsLn"
      },
      "source": [
        "cat =np.array([70, 60, 50, 40, 30])"
      ],
      "execution_count": null,
      "outputs": []
    },
    {
      "cell_type": "code",
      "metadata": {
        "colab": {
          "base_uri": "https://localhost:8080/"
        },
        "id": "pztpEFswiRvr",
        "outputId": "5822feeb-f80b-4799-d71f-4d6bfd54cf6d"
      },
      "source": [
        "type(cat)"
      ],
      "execution_count": null,
      "outputs": [
        {
          "output_type": "execute_result",
          "data": {
            "text/plain": [
              "numpy.ndarray"
            ]
          },
          "metadata": {},
          "execution_count": 39
        }
      ]
    },
    {
      "cell_type": "code",
      "metadata": {
        "colab": {
          "base_uri": "https://localhost:8080/"
        },
        "id": "JZVRM6pYiTfA",
        "outputId": "e34437fb-45d3-4330-833c-570491ea82d6"
      },
      "source": [
        "cat.dtype"
      ],
      "execution_count": null,
      "outputs": [
        {
          "output_type": "execute_result",
          "data": {
            "text/plain": [
              "dtype('int64')"
            ]
          },
          "metadata": {},
          "execution_count": 40
        }
      ]
    },
    {
      "cell_type": "code",
      "metadata": {
        "id": "Yo2rxHTmjdjF"
      },
      "source": [
        "students = ['Ada', 'Ema', 'Uduak', 'Uwem']"
      ],
      "execution_count": 43,
      "outputs": []
    },
    {
      "cell_type": "code",
      "metadata": {
        "colab": {
          "base_uri": "https://localhost:8080/"
        },
        "id": "eesHjE8Cz3gI",
        "outputId": "09c686d6-0fa2-4d21-a8dc-47e6f0e739f6"
      },
      "source": [
        "type(students)"
      ],
      "execution_count": 44,
      "outputs": [
        {
          "output_type": "execute_result",
          "data": {
            "text/plain": [
              "list"
            ]
          },
          "metadata": {},
          "execution_count": 44
        }
      ]
    },
    {
      "cell_type": "code",
      "metadata": {
        "id": "GnBtaN5Qz5R4"
      },
      "source": [
        "names_s = pd.Series(students)"
      ],
      "execution_count": 55,
      "outputs": []
    },
    {
      "cell_type": "code",
      "metadata": {
        "id": "68AQX5aJ0EQJ"
      },
      "source": [
        "ages = [54, 67, 44, 20]"
      ],
      "execution_count": 47,
      "outputs": []
    },
    {
      "cell_type": "code",
      "metadata": {
        "colab": {
          "base_uri": "https://localhost:8080/"
        },
        "id": "g-PomjWY0R1v",
        "outputId": "667c67ab-88ff-45aa-c643-59b8d4d69896"
      },
      "source": [
        "pd.Series(ages)"
      ],
      "execution_count": 48,
      "outputs": [
        {
          "output_type": "execute_result",
          "data": {
            "text/plain": [
              "0    54\n",
              "1    67\n",
              "2    44\n",
              "3    20\n",
              "dtype: int64"
            ]
          },
          "metadata": {},
          "execution_count": 48
        }
      ]
    },
    {
      "cell_type": "code",
      "metadata": {
        "id": "u0CgrnPq0Tth"
      },
      "source": [
        "heights = [177.4, 168.7, 177.9]"
      ],
      "execution_count": 49,
      "outputs": []
    },
    {
      "cell_type": "code",
      "metadata": {
        "colab": {
          "base_uri": "https://localhost:8080/"
        },
        "id": "mlO66LN90abV",
        "outputId": "96967827-24d5-4b3a-ed0a-001146bfb039"
      },
      "source": [
        "pd.Series(heights)"
      ],
      "execution_count": 50,
      "outputs": [
        {
          "output_type": "execute_result",
          "data": {
            "text/plain": [
              "0    177.4\n",
              "1    168.7\n",
              "2    177.9\n",
              "dtype: float64"
            ]
          },
          "metadata": {},
          "execution_count": 50
        }
      ]
    },
    {
      "cell_type": "code",
      "metadata": {
        "id": "3hjpx3XF0cK1"
      },
      "source": [
        "mixed_data = [True, 'mama', {'Days': 7}]"
      ],
      "execution_count": 51,
      "outputs": []
    },
    {
      "cell_type": "code",
      "metadata": {
        "id": "nZpSjsVs1fic"
      },
      "source": [
        "mixed_s = pd.Series(mixed_data)"
      ],
      "execution_count": 54,
      "outputs": []
    },
    {
      "cell_type": "code",
      "metadata": {
        "colab": {
          "base_uri": "https://localhost:8080/"
        },
        "id": "-rrrvesK1jRz",
        "outputId": "f42db288-8f2e-45ea-93a7-56cae6ff6e1d"
      },
      "source": [
        "names_s.equals(mixed_s)"
      ],
      "execution_count": 56,
      "outputs": [
        {
          "output_type": "execute_result",
          "data": {
            "text/plain": [
              "False"
            ]
          },
          "metadata": {},
          "execution_count": 56
        }
      ]
    },
    {
      "cell_type": "code",
      "metadata": {
        "id": "qvN2siiY4MS1"
      },
      "source": [
        "movie_names = ['A man called God', 'The walking dead', 'Scorpion']"
      ],
      "execution_count": 78,
      "outputs": []
    },
    {
      "cell_type": "code",
      "metadata": {
        "id": "y9YhSwIbKy3m"
      },
      "source": [
        "movies_series = pd.Series(movie_names)"
      ],
      "execution_count": 80,
      "outputs": []
    },
    {
      "cell_type": "code",
      "metadata": {
        "colab": {
          "base_uri": "https://localhost:8080/"
        },
        "id": "akiiFTg2LVd3",
        "outputId": "ff8d506f-a999-47f0-db84-7839250eb815"
      },
      "source": [
        "movies_series"
      ],
      "execution_count": 82,
      "outputs": [
        {
          "output_type": "execute_result",
          "data": {
            "text/plain": [
              "0    A man called God\n",
              "1    The walking dead\n",
              "2            Scorpion\n",
              "dtype: object"
            ]
          },
          "metadata": {},
          "execution_count": 82
        }
      ]
    },
    {
      "cell_type": "code",
      "metadata": {
        "id": "cJPpJCMKLelc"
      },
      "source": [
        "movies_series.name"
      ],
      "execution_count": 83,
      "outputs": []
    },
    {
      "cell_type": "code",
      "metadata": {
        "colab": {
          "base_uri": "https://localhost:8080/"
        },
        "id": "6ei6oMDfLz61",
        "outputId": "463a12df-c4e1-4687-a8fb-2b85f2c9b23b"
      },
      "source": [
        "movies_series == None"
      ],
      "execution_count": 86,
      "outputs": [
        {
          "output_type": "execute_result",
          "data": {
            "text/plain": [
              "0    False\n",
              "1    False\n",
              "2    False\n",
              "dtype: bool"
            ]
          },
          "metadata": {},
          "execution_count": 86
        }
      ]
    },
    {
      "cell_type": "code",
      "metadata": {
        "id": "ssZDpunkL8xu"
      },
      "source": [
        "movies_series.name = 'My favourite movies'"
      ],
      "execution_count": 87,
      "outputs": []
    },
    {
      "cell_type": "code",
      "metadata": {
        "colab": {
          "base_uri": "https://localhost:8080/"
        },
        "id": "4q5bJx1nMLWi",
        "outputId": "9e40bc18-6596-4692-abeb-53df0a6e4041"
      },
      "source": [
        "movies_series"
      ],
      "execution_count": 88,
      "outputs": [
        {
          "output_type": "execute_result",
          "data": {
            "text/plain": [
              "0    A man called God\n",
              "1    The walking dead\n",
              "2            Scorpion\n",
              "Name: My favourite movies, dtype: object"
            ]
          },
          "metadata": {},
          "execution_count": 88
        }
      ]
    },
    {
      "cell_type": "code",
      "metadata": {
        "id": "j3NvMY8vMOTH"
      },
      "source": [
        "movies_series.index.name"
      ],
      "execution_count": 89,
      "outputs": []
    },
    {
      "cell_type": "code",
      "metadata": {
        "colab": {
          "base_uri": "https://localhost:8080/"
        },
        "id": "2OcWwXqhMpaG",
        "outputId": "4d1cfd79-0eaa-4d88-8fb8-d45deb116099"
      },
      "source": [
        "movies_series.index.name == None"
      ],
      "execution_count": 90,
      "outputs": [
        {
          "output_type": "execute_result",
          "data": {
            "text/plain": [
              "True"
            ]
          },
          "metadata": {},
          "execution_count": 90
        }
      ]
    },
    {
      "cell_type": "code",
      "metadata": {
        "id": "lHSAVTGdMr-Z"
      },
      "source": [
        "movies_series.index.name = 'My movies'"
      ],
      "execution_count": 91,
      "outputs": []
    },
    {
      "cell_type": "code",
      "metadata": {
        "colab": {
          "base_uri": "https://localhost:8080/"
        },
        "id": "xpxzy7ykM0E7",
        "outputId": "f087fa6d-bc4d-45b7-d915-d4c2062c946b"
      },
      "source": [
        "movies_series"
      ],
      "execution_count": 92,
      "outputs": [
        {
          "output_type": "execute_result",
          "data": {
            "text/plain": [
              "My movies\n",
              "0    A man called God\n",
              "1    The walking dead\n",
              "2            Scorpion\n",
              "Name: My favourite movies, dtype: object"
            ]
          },
          "metadata": {},
          "execution_count": 92
        }
      ]
    },
    {
      "cell_type": "markdown",
      "metadata": {
        "id": "97SF-h-dNhZD"
      },
      "source": [
        ""
      ]
    },
    {
      "cell_type": "markdown",
      "metadata": {
        "id": "JwbKb-6pNhhz"
      },
      "source": [
        "### This is a challenge"
      ]
    },
    {
      "cell_type": "code",
      "metadata": {
        "id": "qOpLHbBDNkcO"
      },
      "source": [
        "actors_names = ['Jim Iyke', 'Majid Michael', 'Tonto DIkeh', 'Ini Edo']"
      ],
      "execution_count": 97,
      "outputs": []
    },
    {
      "cell_type": "code",
      "metadata": {
        "id": "mv0etRhHN2UI"
      },
      "source": [
        "actor_ages = [37, 33, 30, 32]"
      ],
      "execution_count": 98,
      "outputs": []
    },
    {
      "cell_type": "code",
      "metadata": {
        "id": "AGqxpODfOu5e",
        "outputId": "e45d16e4-f0e1-4f65-f6b3-db0addd3d059",
        "colab": {
          "base_uri": "https://localhost:8080/"
        }
      },
      "source": [
        "actors_series = pd.Series(actor_ages)\n",
        "actors_series"
      ],
      "execution_count": 104,
      "outputs": [
        {
          "output_type": "execute_result",
          "data": {
            "text/plain": [
              "0    37\n",
              "1    33\n",
              "2    30\n",
              "3    32\n",
              "dtype: int64"
            ]
          },
          "metadata": {},
          "execution_count": 104
        }
      ]
    },
    {
      "cell_type": "code",
      "metadata": {
        "id": "hppFeHItPJeT"
      },
      "source": [
        "actors_series = pd.Series(actor_ages, index = ['Jim Iyke', 'Majid Michael', 'Tonto Dikeh', 'Ini Edo'])"
      ],
      "execution_count": 105,
      "outputs": []
    },
    {
      "cell_type": "code",
      "metadata": {
        "id": "7SROpYbKQ8W0",
        "outputId": "e315489c-0dfa-4427-ddfb-fca5bbfe61a3",
        "colab": {
          "base_uri": "https://localhost:8080/"
        }
      },
      "source": [
        "actors_series"
      ],
      "execution_count": 107,
      "outputs": [
        {
          "output_type": "execute_result",
          "data": {
            "text/plain": [
              "Jim Iyke         37\n",
              "Majid Michael    33\n",
              "Tonto Dikeh      30\n",
              "Ini Edo          32\n",
              "dtype: int64"
            ]
          },
          "metadata": {},
          "execution_count": 107
        }
      ]
    },
    {
      "cell_type": "code",
      "metadata": {
        "id": "a_mkSiv1TsbZ"
      },
      "source": [
        "actors_series = pd.Series(actor_ages, index = actors_names, name='Actors')"
      ],
      "execution_count": 119,
      "outputs": []
    },
    {
      "cell_type": "code",
      "metadata": {
        "id": "mBTxMY8nSDNY",
        "outputId": "a13091a4-c189-4ae8-88c3-9ac74e42f079",
        "colab": {
          "base_uri": "https://localhost:8080/"
        }
      },
      "source": [
        "actors_series"
      ],
      "execution_count": 117,
      "outputs": [
        {
          "output_type": "execute_result",
          "data": {
            "text/plain": [
              "Jim Iyke         37\n",
              "Majid Michael    33\n",
              "Tonto DIkeh      30\n",
              "Ini Edo          32\n",
              "Name: Actors, dtype: int64"
            ]
          },
          "metadata": {},
          "execution_count": 117
        }
      ]
    },
    {
      "cell_type": "code",
      "metadata": {
        "id": "DtftFKIXT2DQ"
      },
      "source": [
        "# To use dict to get the same result"
      ],
      "execution_count": 130,
      "outputs": []
    },
    {
      "cell_type": "code",
      "metadata": {
        "id": "Jy1VE_AdU4Nf"
      },
      "source": [
        ""
      ],
      "execution_count": null,
      "outputs": []
    },
    {
      "cell_type": "code",
      "metadata": {
        "id": "8aNM2nnRU5yu"
      },
      "source": [
        "actors_series = pd.Series(dict(zip(actors_names, actor_ages), name = 'My Actors'))"
      ],
      "execution_count": 145,
      "outputs": []
    },
    {
      "cell_type": "code",
      "metadata": {
        "id": "CWcZrEOvVXJW",
        "outputId": "513aa8b1-eca3-46c3-f269-6525619f8771",
        "colab": {
          "base_uri": "https://localhost:8080/"
        }
      },
      "source": [
        "actors_series"
      ],
      "execution_count": 148,
      "outputs": [
        {
          "output_type": "execute_result",
          "data": {
            "text/plain": [
              "Jim Iyke                37\n",
              "Majid Michael           33\n",
              "Tonto DIkeh             30\n",
              "Ini Edo                 32\n",
              "name             My Actors\n",
              "dtype: object"
            ]
          },
          "metadata": {},
          "execution_count": 148
        }
      ]
    },
    {
      "cell_type": "code",
      "metadata": {
        "id": "Y4i8niMOYr9b",
        "outputId": "f39fdffa-6be2-4082-91ad-509c138d3b9c",
        "colab": {
          "base_uri": "https://localhost:8080/"
        }
      },
      "source": [
        "pd.Series(range(10000))"
      ],
      "execution_count": 149,
      "outputs": [
        {
          "output_type": "execute_result",
          "data": {
            "text/plain": [
              "0          0\n",
              "1          1\n",
              "2          2\n",
              "3          3\n",
              "4          4\n",
              "        ... \n",
              "9995    9995\n",
              "9996    9996\n",
              "9997    9997\n",
              "9998    9998\n",
              "9999    9999\n",
              "Length: 10000, dtype: int64"
            ]
          },
          "metadata": {},
          "execution_count": 149
        }
      ]
    },
    {
      "cell_type": "code",
      "metadata": {
        "id": "dCZxg20yYu4f"
      },
      "source": [
        "int_list = pd.Series([i for i in range(80)])"
      ],
      "execution_count": 156,
      "outputs": []
    },
    {
      "cell_type": "code",
      "metadata": {
        "id": "o4UmpsvmZWr4",
        "outputId": "e3b82c88-a144-45f4-d9a2-a43779d7382e",
        "colab": {
          "base_uri": "https://localhost:8080/"
        }
      },
      "source": [
        "int_list"
      ],
      "execution_count": 157,
      "outputs": [
        {
          "output_type": "execute_result",
          "data": {
            "text/plain": [
              "0      0\n",
              "1      1\n",
              "2      2\n",
              "3      3\n",
              "4      4\n",
              "      ..\n",
              "75    75\n",
              "76    76\n",
              "77    77\n",
              "78    78\n",
              "79    79\n",
              "Length: 80, dtype: int64"
            ]
          },
          "metadata": {},
          "execution_count": 157
        }
      ]
    },
    {
      "cell_type": "code",
      "metadata": {
        "id": "o5p-T0okZYaT"
      },
      "source": [
        ""
      ],
      "execution_count": null,
      "outputs": []
    }
  ]
}