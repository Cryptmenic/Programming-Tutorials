{
  "nbformat": 4,
  "nbformat_minor": 0,
  "metadata": {
    "colab": {
      "name": "Web scrapping.ipynb",
      "provenance": [],
      "mount_file_id": "1Yoz0e9ZqlWs448SdFWyGGRt8RfgIDB2Y",
      "authorship_tag": "ABX9TyNdg6RzVO/TRNlHUD5SoA+J",
      "include_colab_link": true
    },
    "kernelspec": {
      "name": "python3",
      "display_name": "Python 3"
    },
    "language_info": {
      "name": "python"
    }
  },
  "cells": [
    {
      "cell_type": "markdown",
      "metadata": {
        "id": "view-in-github",
        "colab_type": "text"
      },
      "source": [
        "<a href=\"https://colab.research.google.com/github/Cryptmenic/Programming-Tutorials/blob/master/Web_scrapping.ipynb\" target=\"_parent\"><img src=\"https://colab.research.google.com/assets/colab-badge.svg\" alt=\"Open In Colab\"/></a>"
      ]
    },
    {
      "cell_type": "code",
      "metadata": {
        "id": "pUJhaWZOHAxP"
      },
      "source": [
        "from bs4 import BeautifulSoup\n",
        "import requests, openpyxl"
      ],
      "execution_count": 53,
      "outputs": []
    },
    {
      "cell_type": "code",
      "metadata": {
        "id": "LFPL22EqHrKE"
      },
      "source": [
        "excel = openpyxl.Workbook()\n",
        "sheet = excel.active\n",
        "sheet.title = ('Top Rated Movies')\n",
        "sheet.append(['Movei Rank', 'Movie Name', 'Year of Release', 'IMDB Rating'])"
      ],
      "execution_count": 54,
      "outputs": []
    },
    {
      "cell_type": "code",
      "metadata": {
        "id": "81GFLqx1Htuf"
      },
      "source": [
        "try:\n",
        "  url = 'https://www.imdb.com/chart/top/'\n",
        "  page = requests.get(url)\n",
        "  page.raise_for_status\n",
        "\n",
        "  soup = BeautifulSoup(page.text, 'html.parser')\n",
        "  \n",
        "  movies = soup.find('tbody', class_ = 'lister-list').find_all('tr')\n",
        "  \n",
        "  for movie in movies:\n",
        "    name = movie.find('td', class_ = 'titleColumn').a.text\n",
        "    rank = movie.find('td', class_ = 'titleColumn').get_text(strip = True).split('.')[0]\n",
        "    year = movie.find('td', class_ = 'titleColumn').span.text.strip('()')\n",
        "    rating = movie.find('td', class_ = 'ratingColumn imdbRating').strong.text\n",
        "\n",
        "\n",
        "\n",
        "    sheet.append([rank, name, year, rating])\n",
        "  \n",
        "\n",
        "\n",
        "\n",
        "\n",
        "\n",
        "except Exception as e:\n",
        "  print(e)"
      ],
      "execution_count": 55,
      "outputs": []
    },
    {
      "cell_type": "code",
      "metadata": {
        "id": "oEC0-kEuIAmy"
      },
      "source": [
        ""
      ],
      "execution_count": 55,
      "outputs": []
    },
    {
      "cell_type": "markdown",
      "metadata": {
        "id": "Ikj83NPnuLR4"
      },
      "source": [
        "# New section"
      ]
    },
    {
      "cell_type": "code",
      "metadata": {
        "id": "fwelSixcKAX3"
      },
      "source": [
        ""
      ],
      "execution_count": 41,
      "outputs": []
    },
    {
      "cell_type": "code",
      "metadata": {
        "id": "eoYfs4KmIEhO"
      },
      "source": [
        ""
      ],
      "execution_count": 41,
      "outputs": []
    },
    {
      "cell_type": "code",
      "metadata": {
        "id": "Xx3U1zDsILIX"
      },
      "source": [
        ""
      ],
      "execution_count": 41,
      "outputs": []
    }
  ]
}